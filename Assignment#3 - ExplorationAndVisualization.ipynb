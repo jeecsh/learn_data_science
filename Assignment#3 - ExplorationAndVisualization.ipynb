{
 "cells": [
  {
   "cell_type": "markdown",
   "id": "1dec577e",
   "metadata": {},
   "source": [
    "># <center> <font color='red'> CMPE428 - DATA SCIENCE </font> </center>\n",
    ">## <center> <font color='blue'> Assignment 3 - Exploration and Visualization of Data </font>  </center>"
   ]
  },
  {
   "cell_type": "code",
   "execution_count": 1,
   "id": "c0c07732",
   "metadata": {},
   "outputs": [],
   "source": [
    "import pandas as pd\n",
    "import seaborn as sns\n",
    "import matplotlib.pyplot as plt"
   ]
  },
  {
   "cell_type": "markdown",
   "id": "eeafccc5",
   "metadata": {},
   "source": [
    "Download the dataset “NHANES0910modified.csv” from https://staff.emu.edu.tr/hakanaltincay/Documents/CMPE428/. \n",
    "The columns named as ClassLabel, Gender, Race, Education, FamilyHistory and HighBloodSugar are categorical and \n",
    "the others are numerical."
   ]
  },
  {
   "cell_type": "code",
   "execution_count": 2,
   "id": "e56e9ea7",
   "metadata": {},
   "outputs": [],
   "source": [
    "df = pd.read_csv(\"https://staff.emu.edu.tr/hakanaltincay/Documents/CMPE428/NHANES0910modified.csv\")"
   ]
  },
  {
   "cell_type": "markdown",
   "id": "5a7417e3",
   "metadata": {},
   "source": [
    "Display the top 10 rows of the dataset"
   ]
  },
  {
   "cell_type": "code",
   "execution_count": 3,
   "id": "8d5e40e6",
   "metadata": {},
   "outputs": [
    {
     "data": {
      "text/html": [
       "<div>\n",
       "<style scoped>\n",
       "    .dataframe tbody tr th:only-of-type {\n",
       "        vertical-align: middle;\n",
       "    }\n",
       "\n",
       "    .dataframe tbody tr th {\n",
       "        vertical-align: top;\n",
       "    }\n",
       "\n",
       "    .dataframe thead th {\n",
       "        text-align: right;\n",
       "    }\n",
       "</style>\n",
       "<table border=\"1\" class=\"dataframe\">\n",
       "  <thead>\n",
       "    <tr style=\"text-align: right;\">\n",
       "      <th></th>\n",
       "      <th>ClassLabel</th>\n",
       "      <th>Gender</th>\n",
       "      <th>Age</th>\n",
       "      <th>Race</th>\n",
       "      <th>Education</th>\n",
       "      <th>FamilyHistory</th>\n",
       "      <th>HighBloodSugar</th>\n",
       "      <th>BMI</th>\n",
       "      <th>WaistCircumference</th>\n",
       "      <th>SystolicBP</th>\n",
       "      <th>DiastolicBP</th>\n",
       "      <th>LDL</th>\n",
       "      <th>HDL</th>\n",
       "      <th>Triglycerides</th>\n",
       "    </tr>\n",
       "  </thead>\n",
       "  <tbody>\n",
       "    <tr>\n",
       "      <th>0</th>\n",
       "      <td>Negative</td>\n",
       "      <td>1</td>\n",
       "      <td>44</td>\n",
       "      <td>3</td>\n",
       "      <td>3.0</td>\n",
       "      <td>1</td>\n",
       "      <td>1</td>\n",
       "      <td>29.10</td>\n",
       "      <td>106.6</td>\n",
       "      <td>119</td>\n",
       "      <td>88</td>\n",
       "      <td>113</td>\n",
       "      <td>37</td>\n",
       "      <td>235</td>\n",
       "    </tr>\n",
       "    <tr>\n",
       "      <th>1</th>\n",
       "      <td>Negative</td>\n",
       "      <td>2</td>\n",
       "      <td>44</td>\n",
       "      <td>1</td>\n",
       "      <td>2.0</td>\n",
       "      <td>2</td>\n",
       "      <td>1</td>\n",
       "      <td>25.06</td>\n",
       "      <td>82.3</td>\n",
       "      <td>130</td>\n",
       "      <td>86</td>\n",
       "      <td>138</td>\n",
       "      <td>63</td>\n",
       "      <td>61</td>\n",
       "    </tr>\n",
       "    <tr>\n",
       "      <th>2</th>\n",
       "      <td>Negative</td>\n",
       "      <td>1</td>\n",
       "      <td>22</td>\n",
       "      <td>3</td>\n",
       "      <td>5.0</td>\n",
       "      <td>1</td>\n",
       "      <td>1</td>\n",
       "      <td>28.07</td>\n",
       "      <td>94.5</td>\n",
       "      <td>120</td>\n",
       "      <td>87</td>\n",
       "      <td>96</td>\n",
       "      <td>57</td>\n",
       "      <td>111</td>\n",
       "    </tr>\n",
       "    <tr>\n",
       "      <th>3</th>\n",
       "      <td>Negative</td>\n",
       "      <td>2</td>\n",
       "      <td>35</td>\n",
       "      <td>3</td>\n",
       "      <td>4.0</td>\n",
       "      <td>1</td>\n",
       "      <td>1</td>\n",
       "      <td>20.29</td>\n",
       "      <td>71.9</td>\n",
       "      <td>110</td>\n",
       "      <td>64</td>\n",
       "      <td>93</td>\n",
       "      <td>89</td>\n",
       "      <td>58</td>\n",
       "    </tr>\n",
       "    <tr>\n",
       "      <th>4</th>\n",
       "      <td>Negative</td>\n",
       "      <td>1</td>\n",
       "      <td>54</td>\n",
       "      <td>2</td>\n",
       "      <td>5.0</td>\n",
       "      <td>2</td>\n",
       "      <td>1</td>\n",
       "      <td>36.32</td>\n",
       "      <td>116.4</td>\n",
       "      <td>92</td>\n",
       "      <td>42</td>\n",
       "      <td>110</td>\n",
       "      <td>62</td>\n",
       "      <td>71</td>\n",
       "    </tr>\n",
       "    <tr>\n",
       "      <th>5</th>\n",
       "      <td>Negative</td>\n",
       "      <td>1</td>\n",
       "      <td>54</td>\n",
       "      <td>4</td>\n",
       "      <td>5.0</td>\n",
       "      <td>2</td>\n",
       "      <td>1</td>\n",
       "      <td>26.62</td>\n",
       "      <td>92.6</td>\n",
       "      <td>142</td>\n",
       "      <td>96</td>\n",
       "      <td>99</td>\n",
       "      <td>86</td>\n",
       "      <td>85</td>\n",
       "    </tr>\n",
       "    <tr>\n",
       "      <th>6</th>\n",
       "      <td>Negative</td>\n",
       "      <td>2</td>\n",
       "      <td>25</td>\n",
       "      <td>1</td>\n",
       "      <td>2.0</td>\n",
       "      <td>1</td>\n",
       "      <td>1</td>\n",
       "      <td>25.59</td>\n",
       "      <td>86.4</td>\n",
       "      <td>104</td>\n",
       "      <td>62</td>\n",
       "      <td>78</td>\n",
       "      <td>60</td>\n",
       "      <td>73</td>\n",
       "    </tr>\n",
       "    <tr>\n",
       "      <th>7</th>\n",
       "      <td>Negative</td>\n",
       "      <td>1</td>\n",
       "      <td>80</td>\n",
       "      <td>3</td>\n",
       "      <td>4.0</td>\n",
       "      <td>1</td>\n",
       "      <td>1</td>\n",
       "      <td>35.77</td>\n",
       "      <td>130.8</td>\n",
       "      <td>98</td>\n",
       "      <td>38</td>\n",
       "      <td>137</td>\n",
       "      <td>41</td>\n",
       "      <td>101</td>\n",
       "    </tr>\n",
       "    <tr>\n",
       "      <th>8</th>\n",
       "      <td>Negative</td>\n",
       "      <td>1</td>\n",
       "      <td>49</td>\n",
       "      <td>1</td>\n",
       "      <td>2.0</td>\n",
       "      <td>1</td>\n",
       "      <td>1</td>\n",
       "      <td>29.13</td>\n",
       "      <td>100.9</td>\n",
       "      <td>122</td>\n",
       "      <td>92</td>\n",
       "      <td>112</td>\n",
       "      <td>48</td>\n",
       "      <td>159</td>\n",
       "    </tr>\n",
       "    <tr>\n",
       "      <th>9</th>\n",
       "      <td>Negative</td>\n",
       "      <td>2</td>\n",
       "      <td>37</td>\n",
       "      <td>2</td>\n",
       "      <td>4.0</td>\n",
       "      <td>2</td>\n",
       "      <td>1</td>\n",
       "      <td>21.16</td>\n",
       "      <td>79.7</td>\n",
       "      <td>103</td>\n",
       "      <td>60</td>\n",
       "      <td>102</td>\n",
       "      <td>54</td>\n",
       "      <td>57</td>\n",
       "    </tr>\n",
       "  </tbody>\n",
       "</table>\n",
       "</div>"
      ],
      "text/plain": [
       "  ClassLabel  Gender  Age  Race  Education  FamilyHistory  HighBloodSugar  \\\n",
       "0   Negative       1   44     3        3.0              1               1   \n",
       "1   Negative       2   44     1        2.0              2               1   \n",
       "2   Negative       1   22     3        5.0              1               1   \n",
       "3   Negative       2   35     3        4.0              1               1   \n",
       "4   Negative       1   54     2        5.0              2               1   \n",
       "5   Negative       1   54     4        5.0              2               1   \n",
       "6   Negative       2   25     1        2.0              1               1   \n",
       "7   Negative       1   80     3        4.0              1               1   \n",
       "8   Negative       1   49     1        2.0              1               1   \n",
       "9   Negative       2   37     2        4.0              2               1   \n",
       "\n",
       "     BMI  WaistCircumference  SystolicBP  DiastolicBP  LDL  HDL  Triglycerides  \n",
       "0  29.10               106.6         119           88  113   37            235  \n",
       "1  25.06                82.3         130           86  138   63             61  \n",
       "2  28.07                94.5         120           87   96   57            111  \n",
       "3  20.29                71.9         110           64   93   89             58  \n",
       "4  36.32               116.4          92           42  110   62             71  \n",
       "5  26.62                92.6         142           96   99   86             85  \n",
       "6  25.59                86.4         104           62   78   60             73  \n",
       "7  35.77               130.8          98           38  137   41            101  \n",
       "8  29.13               100.9         122           92  112   48            159  \n",
       "9  21.16                79.7         103           60  102   54             57  "
      ]
     },
     "execution_count": 3,
     "metadata": {},
     "output_type": "execute_result"
    }
   ],
   "source": [
    "df.head(10)"
   ]
  },
  {
   "cell_type": "markdown",
   "id": "365ebd6b",
   "metadata": {},
   "source": [
    "Count and report the number of missing values in each variable "
   ]
  },
  {
   "cell_type": "code",
   "execution_count": 6,
   "id": "1c600dd5",
   "metadata": {},
   "outputs": [
    {
     "name": "stdout",
     "output_type": "stream",
     "text": [
      "ClassLabel             0\n",
      "Gender                 0\n",
      "Age                    0\n",
      "Race                   0\n",
      "Education             12\n",
      "FamilyHistory          0\n",
      "HighBloodSugar         0\n",
      "BMI                    9\n",
      "WaistCircumference     0\n",
      "SystolicBP             0\n",
      "DiastolicBP            0\n",
      "LDL                    0\n",
      "HDL                    0\n",
      "Triglycerides          0\n",
      "dtype: int64\n"
     ]
    }
   ],
   "source": [
    "missing = df.isnull().sum()\n",
    "print(missing)\n"
   ]
  },
  {
   "cell_type": "markdown",
   "id": "e6c06265",
   "metadata": {},
   "source": [
    "Impute the missing values in categorical variables by their most frequent values"
   ]
  },
  {
   "cell_type": "code",
   "execution_count": 61,
   "id": "36291ec1",
   "metadata": {},
   "outputs": [],
   "source": [
    "df['Education'].fillna(df['Education'].mode()[0], inplace=True) \n",
    "df['BMI'].fillna(df['BMI'].mode()[0], inplace=True)                                                                                                                                                                           "
   ]
  },
  {
   "cell_type": "markdown",
   "id": "b3349b64",
   "metadata": {},
   "source": [
    "Impute the missing values in continuous variables by their mean values"
   ]
  },
  {
   "cell_type": "code",
   "execution_count": 62,
   "id": "f03ebb9a",
   "metadata": {},
   "outputs": [],
   "source": [
    "df['Education'].fillna(df['Education'].mean()[0], inplace=True) \n",
    "df['BMI'].fillna(df['BMI'].mode()[0], inplace=True)    "
   ]
  },
  {
   "cell_type": "markdown",
   "id": "20b0f34b",
   "metadata": {},
   "source": [
    "Report the number of positive and negative samples in the dataset"
   ]
  },
  {
   "cell_type": "code",
   "execution_count": 63,
   "id": "ca1cc7aa",
   "metadata": {},
   "outputs": [
    {
     "name": "stdout",
     "output_type": "stream",
     "text": [
      "number of positive samples\n",
      "728\n",
      "number of negative samples\n",
      "775\n"
     ]
    }
   ],
   "source": []
  },
  {
   "cell_type": "markdown",
   "id": "f610e6f5",
   "metadata": {},
   "source": [
    "Report the number Positive samples having Gender =1 and Race =2"
   ]
  },
  {
   "cell_type": "code",
   "execution_count": 64,
   "id": "ec2fa2fb",
   "metadata": {},
   "outputs": [
    {
     "name": "stdout",
     "output_type": "stream",
     "text": [
      "40\n"
     ]
    }
   ],
   "source": []
  },
  {
   "cell_type": "markdown",
   "id": "b6564ca7",
   "metadata": {},
   "source": [
    "Which Race value is the most frequent in Negative samples?"
   ]
  },
  {
   "cell_type": "code",
   "execution_count": 65,
   "id": "5e58a43d",
   "metadata": {},
   "outputs": [
    {
     "name": "stdout",
     "output_type": "stream",
     "text": [
      "3    794\n",
      "1    270\n",
      "4    206\n",
      "2    161\n",
      "5     72\n",
      "Name: Race, dtype: int64\n"
     ]
    }
   ],
   "source": []
  },
  {
   "cell_type": "markdown",
   "id": "22e1415e",
   "metadata": {},
   "source": [
    "What is the average BMI value of the samples having Education =3?"
   ]
  },
  {
   "cell_type": "code",
   "execution_count": 66,
   "id": "e4698fb3",
   "metadata": {},
   "outputs": [
    {
     "data": {
      "text/plain": [
       "49.764525993883794"
      ]
     },
     "execution_count": 66,
     "metadata": {},
     "output_type": "execute_result"
    }
   ],
   "source": []
  },
  {
   "cell_type": "markdown",
   "id": "aaac8e88",
   "metadata": {},
   "source": [
    "Compute the mean and standard deviation of BMI values for Gender = 1"
   ]
  },
  {
   "cell_type": "code",
   "execution_count": 67,
   "id": "e84c66bf",
   "metadata": {},
   "outputs": [
    {
     "name": "stdout",
     "output_type": "stream",
     "text": [
      "28.49773850117451\n",
      "5.642778216687597\n"
     ]
    }
   ],
   "source": []
  },
  {
   "cell_type": "markdown",
   "id": "4df71f92",
   "metadata": {},
   "source": [
    "For the WaistCircumference, compute a pair of boxplots, one for each class (Positive or Negative) specified in the first column of the dataset. "
   ]
  },
  {
   "cell_type": "code",
   "execution_count": 68,
   "id": "30271702",
   "metadata": {},
   "outputs": [
    {
     "data": {
      "text/plain": [
       "[Text(1, 0, 'Positive'), Text(2, 0, 'Negative')]"
      ]
     },
     "execution_count": 68,
     "metadata": {},
     "output_type": "execute_result"
    },
    {
     "data": {
      "image/png": "[encoded data removed]",
      "text/plain": [
       "<Figure size 432x288 with 1 Axes>"
      ]
     },
     "metadata": {
      "needs_background": "light"
     },
     "output_type": "display_data"
    }
   ],
   "source": []
  },
  {
   "cell_type": "markdown",
   "id": "54490254",
   "metadata": {},
   "source": [
    "Using the \"quantile\" method, print quartile information for BMI. Verify your results using the describe() method"
   ]
  },
  {
   "cell_type": "code",
   "execution_count": 69,
   "id": "e74a7f43",
   "metadata": {},
   "outputs": [
    {
     "name": "stdout",
     "output_type": "stream",
     "text": [
      "Quantile value for 0.25:\n",
      "24.16\n",
      "Quantile value for 0.50:\n",
      "27.5\n",
      "Quantile value for 0.75:\n",
      "31.715\n"
     ]
    },
    {
     "data": {
      "text/html": [
       "<div>\n",
       "<style scoped>\n",
       "    .dataframe tbody tr th:only-of-type {\n",
       "        vertical-align: middle;\n",
       "    }\n",
       "\n",
       "    .dataframe tbody tr th {\n",
       "        vertical-align: top;\n",
       "    }\n",
       "\n",
       "    .dataframe thead th {\n",
       "        text-align: right;\n",
       "    }\n",
       "</style>\n",
       "<table border=\"1\" class=\"dataframe\">\n",
       "  <thead>\n",
       "    <tr style=\"text-align: right;\">\n",
       "      <th></th>\n",
       "      <th>Gender</th>\n",
       "      <th>Age</th>\n",
       "      <th>Race</th>\n",
       "      <th>Education</th>\n",
       "      <th>FamilyHistory</th>\n",
       "      <th>HighBloodSugar</th>\n",
       "      <th>BMI</th>\n",
       "      <th>WaistCircumference</th>\n",
       "      <th>SystolicBP</th>\n",
       "      <th>DiastolicBP</th>\n",
       "      <th>LDL</th>\n",
       "      <th>HDL</th>\n",
       "      <th>Triglycerides</th>\n",
       "    </tr>\n",
       "  </thead>\n",
       "  <tbody>\n",
       "    <tr>\n",
       "      <th>count</th>\n",
       "      <td>1503.000000</td>\n",
       "      <td>1503.000000</td>\n",
       "      <td>1503.000000</td>\n",
       "      <td>1491.000000</td>\n",
       "      <td>1503.000000</td>\n",
       "      <td>1503.000000</td>\n",
       "      <td>1503.000000</td>\n",
       "      <td>1503.000000</td>\n",
       "      <td>1503.000000</td>\n",
       "      <td>1503.000000</td>\n",
       "      <td>1503.000000</td>\n",
       "      <td>1503.000000</td>\n",
       "      <td>1503.000000</td>\n",
       "    </tr>\n",
       "    <tr>\n",
       "      <th>mean</th>\n",
       "      <td>1.541583</td>\n",
       "      <td>49.231537</td>\n",
       "      <td>2.766467</td>\n",
       "      <td>3.428571</td>\n",
       "      <td>1.333333</td>\n",
       "      <td>1.025948</td>\n",
       "      <td>28.416365</td>\n",
       "      <td>97.555888</td>\n",
       "      <td>120.359947</td>\n",
       "      <td>68.152362</td>\n",
       "      <td>118.815702</td>\n",
       "      <td>55.480373</td>\n",
       "      <td>117.979375</td>\n",
       "    </tr>\n",
       "    <tr>\n",
       "      <th>std</th>\n",
       "      <td>0.498434</td>\n",
       "      <td>17.646239</td>\n",
       "      <td>1.049072</td>\n",
       "      <td>1.275253</td>\n",
       "      <td>0.471561</td>\n",
       "      <td>0.159033</td>\n",
       "      <td>6.240718</td>\n",
       "      <td>15.358587</td>\n",
       "      <td>17.108261</td>\n",
       "      <td>11.749383</td>\n",
       "      <td>34.656330</td>\n",
       "      <td>16.125324</td>\n",
       "      <td>60.615212</td>\n",
       "    </tr>\n",
       "    <tr>\n",
       "      <th>min</th>\n",
       "      <td>1.000000</td>\n",
       "      <td>20.000000</td>\n",
       "      <td>1.000000</td>\n",
       "      <td>1.000000</td>\n",
       "      <td>1.000000</td>\n",
       "      <td>1.000000</td>\n",
       "      <td>14.590000</td>\n",
       "      <td>62.000000</td>\n",
       "      <td>76.000000</td>\n",
       "      <td>24.000000</td>\n",
       "      <td>29.000000</td>\n",
       "      <td>21.000000</td>\n",
       "      <td>26.000000</td>\n",
       "    </tr>\n",
       "    <tr>\n",
       "      <th>25%</th>\n",
       "      <td>1.000000</td>\n",
       "      <td>34.000000</td>\n",
       "      <td>2.000000</td>\n",
       "      <td>3.000000</td>\n",
       "      <td>1.000000</td>\n",
       "      <td>1.000000</td>\n",
       "      <td>24.160000</td>\n",
       "      <td>86.500000</td>\n",
       "      <td>108.000000</td>\n",
       "      <td>61.000000</td>\n",
       "      <td>94.000000</td>\n",
       "      <td>44.000000</td>\n",
       "      <td>75.000000</td>\n",
       "    </tr>\n",
       "    <tr>\n",
       "      <th>50%</th>\n",
       "      <td>2.000000</td>\n",
       "      <td>48.000000</td>\n",
       "      <td>3.000000</td>\n",
       "      <td>4.000000</td>\n",
       "      <td>1.000000</td>\n",
       "      <td>1.000000</td>\n",
       "      <td>27.500000</td>\n",
       "      <td>96.100000</td>\n",
       "      <td>118.000000</td>\n",
       "      <td>68.000000</td>\n",
       "      <td>117.000000</td>\n",
       "      <td>53.000000</td>\n",
       "      <td>103.000000</td>\n",
       "    </tr>\n",
       "    <tr>\n",
       "      <th>75%</th>\n",
       "      <td>2.000000</td>\n",
       "      <td>63.000000</td>\n",
       "      <td>3.000000</td>\n",
       "      <td>4.000000</td>\n",
       "      <td>2.000000</td>\n",
       "      <td>1.000000</td>\n",
       "      <td>31.715000</td>\n",
       "      <td>106.350000</td>\n",
       "      <td>130.000000</td>\n",
       "      <td>76.000000</td>\n",
       "      <td>140.000000</td>\n",
       "      <td>65.000000</td>\n",
       "      <td>146.000000</td>\n",
       "    </tr>\n",
       "    <tr>\n",
       "      <th>max</th>\n",
       "      <td>2.000000</td>\n",
       "      <td>80.000000</td>\n",
       "      <td>5.000000</td>\n",
       "      <td>5.000000</td>\n",
       "      <td>2.000000</td>\n",
       "      <td>2.000000</td>\n",
       "      <td>57.940000</td>\n",
       "      <td>162.700000</td>\n",
       "      <td>210.000000</td>\n",
       "      <td>111.000000</td>\n",
       "      <td>266.000000</td>\n",
       "      <td>133.000000</td>\n",
       "      <td>376.000000</td>\n",
       "    </tr>\n",
       "  </tbody>\n",
       "</table>\n",
       "</div>"
      ],
      "text/plain": [
       "            Gender          Age         Race    Education  FamilyHistory  \\\n",
       "count  1503.000000  1503.000000  1503.000000  1491.000000    1503.000000   \n",
       "mean      1.541583    49.231537     2.766467     3.428571       1.333333   \n",
       "std       0.498434    17.646239     1.049072     1.275253       0.471561   \n",
       "min       1.000000    20.000000     1.000000     1.000000       1.000000   \n",
       "25%       1.000000    34.000000     2.000000     3.000000       1.000000   \n",
       "50%       2.000000    48.000000     3.000000     4.000000       1.000000   \n",
       "75%       2.000000    63.000000     3.000000     4.000000       2.000000   \n",
       "max       2.000000    80.000000     5.000000     5.000000       2.000000   \n",
       "\n",
       "       HighBloodSugar          BMI  WaistCircumference   SystolicBP  \\\n",
       "count     1503.000000  1503.000000         1503.000000  1503.000000   \n",
       "mean         1.025948    28.416365           97.555888   120.359947   \n",
       "std          0.159033     6.240718           15.358587    17.108261   \n",
       "min          1.000000    14.590000           62.000000    76.000000   \n",
       "25%          1.000000    24.160000           86.500000   108.000000   \n",
       "50%          1.000000    27.500000           96.100000   118.000000   \n",
       "75%          1.000000    31.715000          106.350000   130.000000   \n",
       "max          2.000000    57.940000          162.700000   210.000000   \n",
       "\n",
       "       DiastolicBP          LDL          HDL  Triglycerides  \n",
       "count  1503.000000  1503.000000  1503.000000    1503.000000  \n",
       "mean     68.152362   118.815702    55.480373     117.979375  \n",
       "std      11.749383    34.656330    16.125324      60.615212  \n",
       "min      24.000000    29.000000    21.000000      26.000000  \n",
       "25%      61.000000    94.000000    44.000000      75.000000  \n",
       "50%      68.000000   117.000000    53.000000     103.000000  \n",
       "75%      76.000000   140.000000    65.000000     146.000000  \n",
       "max     111.000000   266.000000   133.000000     376.000000  "
      ]
     },
     "execution_count": 69,
     "metadata": {},
     "output_type": "execute_result"
    }
   ],
   "source": []
  },
  {
   "cell_type": "markdown",
   "id": "d9b93325",
   "metadata": {},
   "source": [
    "For the Education variable in the dataset, compute the bar-plots for different categories. The bar-plots should present the number of samples having each particular value. "
   ]
  },
  {
   "cell_type": "code",
   "execution_count": 70,
   "id": "2b215b1f",
   "metadata": {},
   "outputs": [
    {
     "data": {
      "text/plain": [
       "<AxesSubplot:xlabel='Education', ylabel='count'>"
      ]
     },
     "execution_count": 70,
     "metadata": {},
     "output_type": "execute_result"
    },
    {
     "data": {
      "image/png": "[encoded data removed]",
      "text/plain": [
       "<Figure size 432x288 with 1 Axes>"
      ]
     },
     "metadata": {
      "needs_background": "light"
     },
     "output_type": "display_data"
    }
   ],
   "source": []
  },
  {
   "cell_type": "markdown",
   "id": "bf84bf4b",
   "metadata": {},
   "source": [
    "For BMI and WaistCircumference, compute a scatter plot. Comment on the relation between the two variables"
   ]
  },
  {
   "cell_type": "code",
   "execution_count": 71,
   "id": "cba7efcd",
   "metadata": {},
   "outputs": [
    {
     "data": {
      "text/plain": [
       "<matplotlib.collections.PathCollection at 0x17a955b9760>"
      ]
     },
     "execution_count": 71,
     "metadata": {},
     "output_type": "execute_result"
    },
    {
     "data": {
      "image/png": "[encoded data removed]",
      "text/plain": [
       "<Figure size 432x288 with 1 Axes>"
      ]
     },
     "metadata": {
      "needs_background": "light"
     },
     "output_type": "display_data"
    }
   ],
   "source": []
  },
  {
   "cell_type": "markdown",
   "id": "aa41c8c4",
   "metadata": {},
   "source": [
    "For SystolicBP and Triglycerides, compute a scatter plot. Comment on the relation between the two variables"
   ]
  },
  {
   "cell_type": "code",
   "execution_count": 72,
   "id": "26e83f2b",
   "metadata": {},
   "outputs": [
    {
     "data": {
      "text/plain": [
       "<matplotlib.collections.PathCollection at 0x17a9533e880>"
      ]
     },
     "execution_count": 72,
     "metadata": {},
     "output_type": "execute_result"
    },
    {
     "data": {
      "image/png": "[encoded data removed]",
      "text/plain": [
       "<Figure size 432x288 with 1 Axes>"
      ]
     },
     "metadata": {
      "needs_background": "light"
     },
     "output_type": "display_data"
    }
   ],
   "source": []
  }
 ],
 "metadata": {
  "kernelspec": {
   "display_name": "base",
   "language": "python",
   "name": "python3"
  },
  "language_info": {
   "codemirror_mode": {
    "name": "ipython",
    "version": 3
   },
   "file_extension": ".py",
   "mimetype": "text/x-python",
   "name": "python",
   "nbconvert_exporter": "python",
   "pygments_lexer": "ipython3",
   "version": "3.12.4"
  }
 },
 "nbformat": 4,
 "nbformat_minor": 5
}
