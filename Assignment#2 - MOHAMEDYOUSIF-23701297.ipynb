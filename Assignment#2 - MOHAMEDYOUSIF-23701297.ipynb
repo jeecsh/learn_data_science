{
 "cells": [
  {
   "cell_type": "markdown",
   "metadata": {},
   "source": [
    "># <center> <font color='red'> CMPE428 - DATA SCIENCE </font> </center>\n",
    ">## <center> <font color='blue'> Assignment 2 - Data Representation Using Numpy </font>  </center>"
   ]
  },
  {
   "cell_type": "code",
   "execution_count": null,
   "metadata": {},
   "outputs": [],
   "source": []
  },
  {
   "cell_type": "markdown",
   "metadata": {},
   "source": [
    "Create a NumPy array named as 'myArray' of size 10x10 and fill it with random integers between 0 and 9"
   ]
  },
  {
   "cell_type": "code",
   "execution_count": 1,
   "metadata": {},
   "outputs": [
    {
     "name": "stdout",
     "output_type": "stream",
     "text": [
      "[[5 0 3 3 7 3 5 2 4 7]\n",
      " [6 8 8 1 6 7 7 8 1 5]\n",
      " [8 4 3 0 3 5 0 2 3 8]\n",
      " [1 3 3 3 7 0 1 0 4 7]\n",
      " [3 2 7 2 0 0 4 5 5 6]\n",
      " [8 4 1 4 8 1 1 7 3 6]\n",
      " [7 2 0 3 5 4 4 6 4 4]\n",
      " [3 4 4 8 4 3 7 5 5 0]\n",
      " [1 5 3 0 5 0 1 2 4 2]\n",
      " [0 3 2 0 7 5 0 2 7 2]]\n"
     ]
    }
   ],
   "source": [
    "import numpy as np\n",
    "np.random.seed(0) \n",
    "myArray=np.random.randint(0,9,(10,10))\n",
    "\n",
    "print(myArray)"
   ]
  },
  {
   "cell_type": "markdown",
   "metadata": {},
   "source": [
    "Display the shape of the array"
   ]
  },
  {
   "cell_type": "code",
   "execution_count": 3,
   "metadata": {},
   "outputs": [
    {
     "data": {
      "text/plain": [
       "(10, 10)"
      ]
     },
     "execution_count": 3,
     "metadata": {},
     "output_type": "execute_result"
    }
   ],
   "source": [
    "myArray.shape"
   ]
  },
  {
   "cell_type": "markdown",
   "metadata": {},
   "source": [
    "Display the sub-matrix having row indices 0,1,2 and column indices 3,4,5"
   ]
  },
  {
   "cell_type": "code",
   "execution_count": 7,
   "metadata": {},
   "outputs": [
    {
     "data": {
      "text/plain": [
       "array([[3, 7, 3],\n",
       "       [1, 6, 7],\n",
       "       [0, 3, 5]])"
      ]
     },
     "execution_count": 7,
     "metadata": {},
     "output_type": "execute_result"
    }
   ],
   "source": [
    "array=myArray[0:3,3:6]\n",
    "array"
   ]
  },
  {
   "cell_type": "markdown",
   "metadata": {},
   "source": [
    "Resphape the submatrix above to a row vector"
   ]
  },
  {
   "cell_type": "code",
   "execution_count": 8,
   "metadata": {},
   "outputs": [
    {
     "data": {
      "text/plain": [
       "array([[3, 7, 3, 1, 6, 7, 0, 3, 5]])"
      ]
     },
     "execution_count": 8,
     "metadata": {},
     "output_type": "execute_result"
    }
   ],
   "source": [
    "array.reshape(1,9)"
   ]
  },
  {
   "cell_type": "markdown",
   "metadata": {},
   "source": [
    "Sort the elements in myArray row-wise and print the sorted matrix"
   ]
  },
  {
   "cell_type": "code",
   "execution_count": 12,
   "metadata": {},
   "outputs": [
    {
     "data": {
      "text/plain": [
       "array([[0, 2, 3, 3, 3, 4, 5, 5, 7, 7],\n",
       "       [1, 1, 5, 6, 6, 7, 7, 8, 8, 8],\n",
       "       [0, 0, 2, 3, 3, 3, 4, 5, 8, 8],\n",
       "       [0, 0, 1, 1, 3, 3, 3, 4, 7, 7],\n",
       "       [0, 0, 2, 2, 3, 4, 5, 5, 6, 7],\n",
       "       [1, 1, 1, 3, 4, 4, 6, 7, 8, 8],\n",
       "       [0, 2, 3, 4, 4, 4, 4, 5, 6, 7],\n",
       "       [0, 3, 3, 4, 4, 4, 5, 5, 7, 8],\n",
       "       [0, 0, 1, 1, 2, 2, 3, 4, 5, 5],\n",
       "       [0, 0, 0, 2, 2, 2, 3, 5, 7, 7]])"
      ]
     },
     "execution_count": 9,
     "metadata": {},
     "output_type": "execute_result"
    }
   ],
   "source": [
    "np.sort(myArray)"
   ]
  },
  {
   "cell_type": "markdown",
   "metadata": {},
   "source": [
    "Create a 1-D array of ones and stack it to myArray vertically"
   ]
  },
  {
   "cell_type": "code",
   "execution_count": 13,
   "metadata": {},
   "outputs": [
    {
     "name": "stdout",
     "output_type": "stream",
     "text": [
      "[[5. 0. 3. 3. 7. 3. 5. 2. 4. 7.]\n",
      " [6. 8. 8. 1. 6. 7. 7. 8. 1. 5.]\n",
      " [8. 4. 3. 0. 3. 5. 0. 2. 3. 8.]\n",
      " [1. 3. 3. 3. 7. 0. 1. 0. 4. 7.]\n",
      " [3. 2. 7. 2. 0. 0. 4. 5. 5. 6.]\n",
      " [8. 4. 1. 4. 8. 1. 1. 7. 3. 6.]\n",
      " [7. 2. 0. 3. 5. 4. 4. 6. 4. 4.]\n",
      " [3. 4. 4. 8. 4. 3. 7. 5. 5. 0.]\n",
      " [1. 5. 3. 0. 5. 0. 1. 2. 4. 2.]\n",
      " [0. 3. 2. 0. 7. 5. 0. 2. 7. 2.]\n",
      " [1. 1. 1. 1. 1. 1. 1. 1. 1. 1.]]\n"
     ]
    }
   ],
   "source": [
    "onesArray = np.ones((1, myArray.shape[1]))\n",
    "\n",
    "# Stack it vertically with myArray\n",
    "myArray = np.vstack((myArray, onesArray))\n",
    "print(myArray)"
   ]
  },
  {
   "cell_type": "markdown",
   "metadata": {},
   "source": [
    "Add 10 to all elements in myArray"
   ]
  },
  {
   "cell_type": "code",
   "execution_count": 11,
   "metadata": {},
   "outputs": [
    {
     "name": "stdout",
     "output_type": "stream",
     "text": [
      "[[15. 10. 13. 13. 17. 13. 15. 12. 14. 17.]\n",
      " [16. 18. 18. 11. 16. 17. 17. 18. 11. 15.]\n",
      " [18. 14. 13. 10. 13. 15. 10. 12. 13. 18.]\n",
      " [11. 13. 13. 13. 17. 10. 11. 10. 14. 17.]\n",
      " [13. 12. 17. 12. 10. 10. 14. 15. 15. 16.]\n",
      " [18. 14. 11. 14. 18. 11. 11. 17. 13. 16.]\n",
      " [17. 12. 10. 13. 15. 14. 14. 16. 14. 14.]\n",
      " [13. 14. 14. 18. 14. 13. 17. 15. 15. 10.]\n",
      " [11. 15. 13. 10. 15. 10. 11. 12. 14. 12.]\n",
      " [10. 13. 12. 10. 17. 15. 10. 12. 17. 12.]\n",
      " [11. 11. 11. 11. 11. 11. 11. 11. 11. 11.]]\n"
     ]
    }
   ],
   "source": [
    "myArray=myArray+10\n",
    "print(myArray)"
   ]
  },
  {
   "cell_type": "markdown",
   "metadata": {},
   "source": [
    "Add the vector [0,1,2,3,4,5,6,7,8,9] to each row"
   ]
  },
  {
   "cell_type": "code",
   "execution_count": 12,
   "metadata": {},
   "outputs": [
    {
     "name": "stdout",
     "output_type": "stream",
     "text": [
      "[[15. 11. 15. 16. 21. 18. 21. 19. 22. 26.]\n",
      " [16. 19. 20. 14. 20. 22. 23. 25. 19. 24.]\n",
      " [18. 15. 15. 13. 17. 20. 16. 19. 21. 27.]\n",
      " [11. 14. 15. 16. 21. 15. 17. 17. 22. 26.]\n",
      " [13. 13. 19. 15. 14. 15. 20. 22. 23. 25.]\n",
      " [18. 15. 13. 17. 22. 16. 17. 24. 21. 25.]\n",
      " [17. 13. 12. 16. 19. 19. 20. 23. 22. 23.]\n",
      " [13. 15. 16. 21. 18. 18. 23. 22. 23. 19.]\n",
      " [11. 16. 15. 13. 19. 15. 17. 19. 22. 21.]\n",
      " [10. 14. 14. 13. 21. 20. 16. 19. 25. 21.]\n",
      " [11. 12. 13. 14. 15. 16. 17. 18. 19. 20.]]\n"
     ]
    }
   ],
   "source": [
    "myArray=myArray+[0,1,2,3,4,5,6,7,8,9]\n",
    "print(myArray)"
   ]
  },
  {
   "cell_type": "markdown",
   "metadata": {},
   "source": [
    "Add 0 to all elements in the first row, 1 to second row, ... 10 to the last row"
   ]
  },
  {
   "cell_type": "code",
   "execution_count": 15,
   "metadata": {},
   "outputs": [
    {
     "name": "stdout",
     "output_type": "stream",
     "text": [
      "[[15. 11. 15. 16. 21. 18. 21. 19. 22. 26.]\n",
      " [17. 20. 21. 15. 21. 23. 24. 26. 20. 25.]\n",
      " [20. 17. 17. 15. 19. 22. 18. 21. 23. 29.]\n",
      " [14. 17. 18. 19. 24. 18. 20. 20. 25. 29.]\n",
      " [17. 17. 23. 19. 18. 19. 24. 26. 27. 29.]\n",
      " [23. 20. 18. 22. 27. 21. 22. 29. 26. 30.]\n",
      " [23. 19. 18. 22. 25. 25. 26. 29. 28. 29.]\n",
      " [20. 22. 23. 28. 25. 25. 30. 29. 30. 26.]\n",
      " [19. 24. 23. 21. 27. 23. 25. 27. 30. 29.]\n",
      " [19. 23. 23. 22. 30. 29. 25. 28. 34. 30.]\n",
      " [21. 22. 23. 24. 25. 26. 27. 28. 29. 30.]]\n"
     ]
    }
   ],
   "source": [
    "addValues = np.arange(myArray.shape[0]).reshape(-1, 1)\n",
    "\n",
    "# Add these values to each row\n",
    "myArray = myArray + addValues\n",
    "\n",
    "print(myArray)"
   ]
  },
  {
   "cell_type": "markdown",
   "metadata": {},
   "source": [
    "Replace all elements of myArray above 20 with 0"
   ]
  },
  {
   "cell_type": "code",
   "execution_count": 16,
   "metadata": {},
   "outputs": [
    {
     "name": "stdout",
     "output_type": "stream",
     "text": [
      "[[15. 11. 15. 16.  0. 18.  0. 19.  0.  0.]\n",
      " [17. 20.  0. 15.  0.  0.  0.  0. 20.  0.]\n",
      " [20. 17. 17. 15. 19.  0. 18.  0.  0.  0.]\n",
      " [14. 17. 18. 19.  0. 18. 20. 20.  0.  0.]\n",
      " [17. 17.  0. 19. 18. 19.  0.  0.  0.  0.]\n",
      " [ 0. 20. 18.  0.  0.  0.  0.  0.  0.  0.]\n",
      " [ 0. 19. 18.  0.  0.  0.  0.  0.  0.  0.]\n",
      " [20.  0.  0.  0.  0.  0.  0.  0.  0.  0.]\n",
      " [19.  0.  0.  0.  0.  0.  0.  0.  0.  0.]\n",
      " [19.  0.  0.  0.  0.  0.  0.  0.  0.  0.]\n",
      " [ 0.  0.  0.  0.  0.  0.  0.  0.  0.  0.]]\n"
     ]
    }
   ],
   "source": [
    "myArray[myArray > 20] = 0\n",
    "print(myArray)"
   ]
  },
  {
   "cell_type": "markdown",
   "metadata": {},
   "source": [
    "Replace all elements of myArray larger than 15 with their remainders when divided by 15"
   ]
  },
  {
   "cell_type": "code",
   "execution_count": 17,
   "metadata": {},
   "outputs": [
    {
     "name": "stdout",
     "output_type": "stream",
     "text": [
      "[[15. 11. 15.  1.  0.  3.  0.  4.  0.  0.]\n",
      " [ 2.  5.  0. 15.  0.  0.  0.  0.  5.  0.]\n",
      " [ 5.  2.  2. 15.  4.  0.  3.  0.  0.  0.]\n",
      " [14.  2.  3.  4.  0.  3.  5.  5.  0.  0.]\n",
      " [ 2.  2.  0.  4.  3.  4.  0.  0.  0.  0.]\n",
      " [ 0.  5.  3.  0.  0.  0.  0.  0.  0.  0.]\n",
      " [ 0.  4.  3.  0.  0.  0.  0.  0.  0.  0.]\n",
      " [ 5.  0.  0.  0.  0.  0.  0.  0.  0.  0.]\n",
      " [ 4.  0.  0.  0.  0.  0.  0.  0.  0.  0.]\n",
      " [ 4.  0.  0.  0.  0.  0.  0.  0.  0.  0.]\n",
      " [ 0.  0.  0.  0.  0.  0.  0.  0.  0.  0.]]\n"
     ]
    }
   ],
   "source": [
    "myArray[myArray > 15] = myArray[myArray > 15] % 15\n",
    "print(myArray)"
   ]
  },
  {
   "cell_type": "markdown",
   "metadata": {},
   "source": [
    "Delete last 4 columns of myArray"
   ]
  },
  {
   "cell_type": "code",
   "execution_count": 21,
   "metadata": {},
   "outputs": [
    {
     "name": "stdout",
     "output_type": "stream",
     "text": [
      "[[15. 11. 15.  1.  0.  3.]\n",
      " [ 2.  5.  0. 15.  0.  0.]\n",
      " [ 5.  2.  2. 15.  4.  0.]\n",
      " [14.  2.  3.  4.  0.  3.]\n",
      " [ 2.  2.  0.  4.  3.  4.]\n",
      " [ 0.  5.  3.  0.  0.  0.]\n",
      " [ 0.  4.  3.  0.  0.  0.]\n",
      " [ 5.  0.  0.  0.  0.  0.]\n",
      " [ 4.  0.  0.  0.  0.  0.]\n",
      " [ 4.  0.  0.  0.  0.  0.]\n",
      " [ 0.  0.  0.  0.  0.  0.]]\n"
     ]
    }
   ],
   "source": [
    "myArray = myArray[:, :-4]\n",
    "print(myArray)"
   ]
  },
  {
   "cell_type": "markdown",
   "metadata": {},
   "source": [
    "Delete last 3 rows of myArray"
   ]
  },
  {
   "cell_type": "code",
   "execution_count": 23,
   "metadata": {},
   "outputs": [
    {
     "name": "stdout",
     "output_type": "stream",
     "text": [
      "[[15. 11. 15.  1.  0.  3.]\n",
      " [ 2.  5.  0. 15.  0.  0.]\n",
      " [ 5.  2.  2. 15.  4.  0.]\n",
      " [14.  2.  3.  4.  0.  3.]\n",
      " [ 2.  2.  0.  4.  3.  4.]\n",
      " [ 0.  5.  3.  0.  0.  0.]\n",
      " [ 0.  4.  3.  0.  0.  0.]\n",
      " [ 5.  0.  0.  0.  0.  0.]]\n"
     ]
    }
   ],
   "source": [
    "myArray=myArray[:-3,:]\n",
    "print(myArray)"
   ]
  },
  {
   "cell_type": "markdown",
   "metadata": {},
   "source": [
    "Swap the second and third columns"
   ]
  },
  {
   "cell_type": "code",
   "execution_count": 30,
   "metadata": {},
   "outputs": [
    {
     "name": "stdout",
     "output_type": "stream",
     "text": [
      "[[15. 15. 11.  1.  0.  3.]\n",
      " [ 2.  0.  5. 15.  0.  0.]\n",
      " [ 5.  2.  2. 15.  4.  0.]\n",
      " [14.  3.  2.  4.  0.  3.]\n",
      " [ 2.  0.  2.  4.  3.  4.]\n",
      " [ 0.  3.  5.  0.  0.  0.]\n",
      " [ 0.  3.  4.  0.  0.  0.]\n",
      " [ 5.  0.  0.  0.  0.  0.]]\n"
     ]
    }
   ],
   "source": [
    "myArray[:, [1, 2]] = myArray[:, [2, 1]]\n",
    "print(myArray)"
   ]
  },
  {
   "cell_type": "markdown",
   "metadata": {},
   "source": [
    "Compute the sum of each row by multiplying myArray with a column vector of ones and print the results "
   ]
  },
  {
   "cell_type": "code",
   "execution_count": 31,
   "metadata": {},
   "outputs": [
    {
     "name": "stdout",
     "output_type": "stream",
     "text": [
      "[[45.]\n",
      " [22.]\n",
      " [28.]\n",
      " [26.]\n",
      " [15.]\n",
      " [ 8.]\n",
      " [ 7.]\n",
      " [ 5.]]\n"
     ]
    }
   ],
   "source": [
    "ones_vector = np.ones((myArray.shape[1], 1))\n",
    "\n",
    "row_sums = np.dot(myArray, ones_vector)\n",
    "\n",
    "print(row_sums)"
   ]
  },
  {
   "cell_type": "markdown",
   "metadata": {},
   "source": [
    "Split myArray into two matrices, A and B. A is made up of first 4 columns and B includes last 2 columns "
   ]
  },
  {
   "cell_type": "code",
   "execution_count": 33,
   "metadata": {},
   "outputs": [
    {
     "name": "stdout",
     "output_type": "stream",
     "text": [
      "[[15. 15. 11.  1.]\n",
      " [ 2.  0.  5. 15.]\n",
      " [ 5.  2.  2. 15.]\n",
      " [14.  3.  2.  4.]\n",
      " [ 2.  0.  2.  4.]\n",
      " [ 0.  3.  5.  0.]\n",
      " [ 0.  3.  4.  0.]\n",
      " [ 5.  0.  0.  0.]]\n",
      "[[0. 3.]\n",
      " [0. 0.]\n",
      " [4. 0.]\n",
      " [0. 3.]\n",
      " [3. 4.]\n",
      " [0. 0.]\n",
      " [0. 0.]\n",
      " [0. 0.]]\n"
     ]
    }
   ],
   "source": [
    "A=myArray[:,:4]\n",
    "B=myArray[:,-2:]\n",
    "print(A)\n",
    "print(B)"
   ]
  },
  {
   "cell_type": "markdown",
   "metadata": {},
   "source": [
    "Merge A and B back to myArray"
   ]
  },
  {
   "cell_type": "code",
   "execution_count": 36,
   "metadata": {},
   "outputs": [
    {
     "name": "stdout",
     "output_type": "stream",
     "text": [
      "[[15. 15. 11.  1.  0.  3.]\n",
      " [ 2.  0.  5. 15.  0.  0.]\n",
      " [ 5.  2.  2. 15.  4.  0.]\n",
      " [14.  3.  2.  4.  0.  3.]\n",
      " [ 2.  0.  2.  4.  3.  4.]\n",
      " [ 0.  3.  5.  0.  0.  0.]\n",
      " [ 0.  3.  4.  0.  0.  0.]\n",
      " [ 5.  0.  0.  0.  0.  0.]]\n"
     ]
    }
   ],
   "source": [
    "myArray=np.hstack((A,B))\n",
    "print(myArray)"
   ]
  },
  {
   "cell_type": "markdown",
   "metadata": {},
   "source": [
    "Normalize myArray so that each column is of zero mean and unit variance. Print the mean and variances of all columns to check for correctness "
   ]
  },
  {
   "cell_type": "code",
   "execution_count": 37,
   "metadata": {},
   "outputs": [
    {
     "name": "stdout",
     "output_type": "stream",
     "text": [
      "[[ 1.72913686  2.53776146  2.26913417 -0.64043572 -0.56965192  1.06748999]\n",
      " [-0.60632072 -0.70193402  0.35828434  1.67339657 -0.56965192 -0.76249285]\n",
      " [-0.06736897 -0.26997462 -0.59714057  1.67339657  2.03447115 -0.76249285]\n",
      " [ 1.54948627 -0.05399492 -0.59714057 -0.14461452 -0.56965192  1.06748999]\n",
      " [-0.60632072 -0.70193402 -0.59714057 -0.14461452  1.38344038  1.67748427]\n",
      " [-0.96562188 -0.05399492  0.35828434 -0.80570946 -0.56965192 -0.76249285]\n",
      " [-0.96562188 -0.05399492  0.03980937 -0.80570946 -0.56965192 -0.76249285]\n",
      " [-0.06736897 -0.70193402 -1.23409051 -0.80570946 -0.56965192 -0.76249285]]\n",
      "[-2.25514052e-17  0.00000000e+00 -2.77555756e-17  5.55111512e-17\n",
      "  8.32667268e-17 -2.77555756e-17]\n",
      "[1. 1. 1. 1. 1. 1.]\n"
     ]
    }
   ],
   "source": [
    "mean = np.mean(myArray, axis=0)\n",
    "std = np.std(myArray, axis=0)\n",
    "myArray = (myArray - mean) / std\n",
    "print(myArray)\n",
    "print(np.mean(myArray, axis = 0))\n",
    "print(np.std (myArray, axis = 0))"
   ]
  },
  {
   "cell_type": "code",
   "execution_count": null,
   "metadata": {},
   "outputs": [],
   "source": []
  }
 ],
 "metadata": {
  "kernelspec": {
   "display_name": "base",
   "language": "python",
   "name": "python3"
  },
  "language_info": {
   "codemirror_mode": {
    "name": "ipython",
    "version": 3
   },
   "file_extension": ".py",
   "mimetype": "text/x-python",
   "name": "python",
   "nbconvert_exporter": "python",
   "pygments_lexer": "ipython3",
   "version": "3.12.4"
  }
 },
 "nbformat": 4,
 "nbformat_minor": 1
}
